{
  "nbformat": 4,
  "nbformat_minor": 0,
  "metadata": {
    "colab": {
      "provenance": [],
      "authorship_tag": "ABX9TyO4ap8oZC3oDHvLs5QtMYea",
      "include_colab_link": true
    },
    "kernelspec": {
      "name": "python3",
      "display_name": "Python 3"
    },
    "language_info": {
      "name": "python"
    }
  },
  "cells": [
    {
      "cell_type": "markdown",
      "metadata": {
        "id": "view-in-github",
        "colab_type": "text"
      },
      "source": [
        "<a href=\"https://colab.research.google.com/github/mbolano42/Python_scripts/blob/main/Replace_email_domain.ipynb\" target=\"_parent\"><img src=\"https://colab.research.google.com/assets/colab-badge.svg\" alt=\"Open In Colab\"/></a>"
      ]
    },
    {
      "cell_type": "code",
      "source": [
        "def replace_domain(email, new_domain):\n",
        "  if new_domain in email:\n",
        "    return email\n",
        "  else:\n",
        "    index = email.index(\"@\")\n",
        "    new_email = email[:index] + \"@\" + new_domain\n",
        "    return new_email\n",
        "\n",
        "print(replace_domain(\"miguel@gmail.com\", \"atlasinformatica.com\"))\n",
        "print(replace_domain(\"miguel@atlasinformatica.com\", \"hotmail.com\"))\n",
        "print(replace_domain(\"miguel@yahoo.com\", \"miguel@yahoo.com\"))"
      ],
      "metadata": {
        "id": "CMKYRxeZOxFl"
      },
      "execution_count": null,
      "outputs": []
    }
  ]
}