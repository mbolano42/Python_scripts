{
  "nbformat": 4,
  "nbformat_minor": 0,
  "metadata": {
    "colab": {
      "provenance": [],
      "authorship_tag": "ABX9TyOQhADbAA5H339TKZ4sZsz8",
      "include_colab_link": true
    },
    "kernelspec": {
      "name": "python3",
      "display_name": "Python 3"
    },
    "language_info": {
      "name": "python"
    }
  },
  "cells": [
    {
      "cell_type": "markdown",
      "metadata": {
        "id": "view-in-github",
        "colab_type": "text"
      },
      "source": [
        "<a href=\"https://colab.research.google.com/github/mbolano42/Python_scripts/blob/main/Reformat_string.ipynb\" target=\"_parent\"><img src=\"https://colab.research.google.com/assets/colab-badge.svg\" alt=\"Open In Colab\"/></a>"
      ]
    },
    {
      "cell_type": "code",
      "source": [
        "def items_on_sale(items_and_price):\n",
        "  items = \"\"\n",
        "  price = \"\"\n",
        "  item_or_price = items_and_price.split()\n",
        "  for x in item_or_price:\n",
        "    if x.isalpha():\n",
        "      items += x + \" \"\n",
        "    else:\n",
        "      price = x\n",
        "  items = items.strip()\n",
        "  return (\"{} are now on sale for ${}\".format(items, price))\n",
        "print(items_on_sale(\"Jackets Pants Shirts 9.99\"))"
      ],
      "metadata": {
        "colab": {
          "base_uri": "https://localhost:8080/"
        },
        "id": "70tBqPvqhdIk",
        "outputId": "e02ea89c-9d5f-4f8e-aed2-51c14e609fb9"
      },
      "execution_count": 3,
      "outputs": [
        {
          "output_type": "stream",
          "name": "stdout",
          "text": [
            "Jackets Pants Shirts are now on sale for $9.99\n"
          ]
        }
      ]
    }
  ]
}