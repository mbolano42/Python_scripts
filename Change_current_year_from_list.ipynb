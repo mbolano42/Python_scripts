{
  "nbformat": 4,
  "nbformat_minor": 0,
  "metadata": {
    "colab": {
      "provenance": [],
      "authorship_tag": "ABX9TyNR/FjSUZlBAzTAWFvSgd6S",
      "include_colab_link": true
    },
    "kernelspec": {
      "name": "python3",
      "display_name": "Python 3"
    },
    "language_info": {
      "name": "python"
    }
  },
  "cells": [
    {
      "cell_type": "markdown",
      "metadata": {
        "id": "view-in-github",
        "colab_type": "text"
      },
      "source": [
        "<a href=\"https://colab.research.google.com/github/mbolano42/Python_scripts/blob/main/Change_current_year_from_list.ipynb\" target=\"_parent\"><img src=\"https://colab.research.google.com/assets/colab-badge.svg\" alt=\"Open In Colab\"/></a>"
      ]
    },
    {
      "cell_type": "code",
      "execution_count": null,
      "metadata": {
        "id": "gIzDHvZ9i29p"
      },
      "outputs": [],
      "source": [
        "dates = [\"Enero 2023\", \"Febrero 2025\", \"Marzo 1999\", \"Abril 2000\", \"Mayo 2024\", \"Junio 2021\", \"Julio 2024\", \"Agosto 2001\", \"Septiembre 2022\", \"Octubre 1888\", \"Noviembre 2030\", \"Diciembre 2029\"]\n",
        "updated_dates = []\n",
        "for date in dates:\n",
        "  if not date.endswith(\"2024\"):\n",
        "    new_date = date.replace(date[-4:], \"2024\")\n",
        "    updated_dates.append(new_date)\n",
        "  else:\n",
        "    updated_dates.append(date)\n",
        "print(updated_dates)\n"
      ]
    }
  ]
}