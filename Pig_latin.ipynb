{
  "nbformat": 4,
  "nbformat_minor": 0,
  "metadata": {
    "colab": {
      "provenance": [],
      "authorship_tag": "ABX9TyO6V6h9UjWcZoK70LCrTdWz",
      "include_colab_link": true
    },
    "kernelspec": {
      "name": "python3",
      "display_name": "Python 3"
    },
    "language_info": {
      "name": "python"
    }
  },
  "cells": [
    {
      "cell_type": "markdown",
      "metadata": {
        "id": "view-in-github",
        "colab_type": "text"
      },
      "source": [
        "<a href=\"https://colab.research.google.com/github/mbolano42/Python_scripts/blob/main/Pig_latin.ipynb\" target=\"_parent\"><img src=\"https://colab.research.google.com/assets/colab-badge.svg\" alt=\"Open In Colab\"/></a>"
      ]
    },
    {
      "cell_type": "code",
      "execution_count": null,
      "metadata": {
        "id": "4VjRBQLTFEQt"
      },
      "outputs": [],
      "source": [
        "#Create a function that turns text into pig latin. Pig latin is a simple text transformation that modifies each word by:\n",
        "\n",
        "# a) Moving the first character to the end of each word;\n",
        "\n",
        "# b) Then appending the letters \"ay\" to the end of each word.\n",
        "\n",
        "# For example, python ends up as ythonpay.\n",
        "\n",
        "def pig_latin(text):\n",
        "  say = \"\"\n",
        "  # Separate the text into words\n",
        "  words = text.split()\n",
        "  nbr_words = len(words)\n",
        "  for index, word in enumerate(words):\n",
        "    # Create the pig latin word and add it to the list\n",
        "    if index == nbr_words - 1:\n",
        "      say += word[1:] + word[0] + \"ay\"\n",
        "    else:\n",
        "      say += word[1:] + word[0] + \"ay \"\n",
        "  return say\n",
        "\n",
        "print(pig_latin(\"hello how are you\")) # Should be \"ellohay owhay reaay ouyay\"\n",
        "print(pig_latin(\"programming in python is fun\")) # Should be \"rogrammingpay niay ythonpay siay unfay\""
      ]
    }
  ]
}