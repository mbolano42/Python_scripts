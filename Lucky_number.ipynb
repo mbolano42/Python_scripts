{
  "nbformat": 4,
  "nbformat_minor": 0,
  "metadata": {
    "colab": {
      "provenance": [],
      "authorship_tag": "ABX9TyNoR20POWe4gTmIuKWVSvN6",
      "include_colab_link": true
    },
    "kernelspec": {
      "name": "python3",
      "display_name": "Python 3"
    },
    "language_info": {
      "name": "python"
    }
  },
  "cells": [
    {
      "cell_type": "markdown",
      "metadata": {
        "id": "view-in-github",
        "colab_type": "text"
      },
      "source": [
        "<a href=\"https://colab.research.google.com/github/mbolano42/Python_scripts/blob/main/Lucky_number.ipynb\" target=\"_parent\"><img src=\"https://colab.research.google.com/assets/colab-badge.svg\" alt=\"Open In Colab\"/></a>"
      ]
    },
    {
      "cell_type": "code",
      "execution_count": null,
      "metadata": {
        "id": "UEfLhTF71duZ"
      },
      "outputs": [],
      "source": [
        "def lucky_number(name):\n",
        "  number = len(name) * 9\n",
        "  print(\"Hello, \" + name + \". Your lucky number is: \" + str(number))\n",
        "lucky_number(\"Miguel\")"
      ]
    },
    {
      "cell_type": "markdown",
      "source": [
        "This function receives a string as argument and prints a number in console."
      ],
      "metadata": {
        "id": "uVd3Fzng2SST"
      }
    }
  ]
}