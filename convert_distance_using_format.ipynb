{
  "nbformat": 4,
  "nbformat_minor": 0,
  "metadata": {
    "colab": {
      "provenance": [],
      "authorship_tag": "ABX9TyNGmGhBcFrKPtd7rvqnTOEv",
      "include_colab_link": true
    },
    "kernelspec": {
      "name": "python3",
      "display_name": "Python 3"
    },
    "language_info": {
      "name": "python"
    }
  },
  "cells": [
    {
      "cell_type": "markdown",
      "metadata": {
        "id": "view-in-github",
        "colab_type": "text"
      },
      "source": [
        "<a href=\"https://colab.research.google.com/github/mbolano42/Python_scripts/blob/main/convert_distance_using_format.ipynb\" target=\"_parent\"><img src=\"https://colab.research.google.com/assets/colab-badge.svg\" alt=\"Open In Colab\"/></a>"
      ]
    },
    {
      "cell_type": "code",
      "execution_count": null,
      "metadata": {
        "id": "Vsen-jhI5uY4"
      },
      "outputs": [],
      "source": [
        "# Esta función permite pasar/convertir las millas en kilómetros.\n",
        "\n",
        "def convert_distance(miles):\n",
        "  km = miles * 1.6\n",
        "  result = \"{:.1f} miles equals {:.1f} km\".format(miles, km)\n",
        "  return result"
      ]
    }
  ]
}