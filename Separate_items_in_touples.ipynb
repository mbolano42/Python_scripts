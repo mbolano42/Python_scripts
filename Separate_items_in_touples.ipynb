{
  "nbformat": 4,
  "nbformat_minor": 0,
  "metadata": {
    "colab": {
      "provenance": [],
      "authorship_tag": "ABX9TyO8dthDadB2JNkumms2mro8",
      "include_colab_link": true
    },
    "kernelspec": {
      "name": "python3",
      "display_name": "Python 3"
    },
    "language_info": {
      "name": "python"
    }
  },
  "cells": [
    {
      "cell_type": "markdown",
      "metadata": {
        "id": "view-in-github",
        "colab_type": "text"
      },
      "source": [
        "<a href=\"https://colab.research.google.com/github/mbolano42/Python_scripts/blob/main/Separate_items_in_touples.ipynb\" target=\"_parent\"><img src=\"https://colab.research.google.com/assets/colab-badge.svg\" alt=\"Open In Colab\"/></a>"
      ]
    },
    {
      "cell_type": "code",
      "execution_count": 1,
      "metadata": {
        "colab": {
          "base_uri": "https://localhost:8080/"
        },
        "id": "eLv1b5vOEnK5",
        "outputId": "cc774ce4-024a-4bf0-ed9a-4ba203e9fc46"
      },
      "outputs": [
        {
          "output_type": "stream",
          "name": "stdout",
          "text": [
            "Ira is 30 years old and works as a a Chef\n",
            "Raj is 35 years old and works as a a Lawyer\n",
            "Maria is 25 years old and works as a an Engineer\n"
          ]
        }
      ],
      "source": [
        "def biography_list(people):\n",
        "    # Iterate over each \"person\" in the given \"people\" list of tuples.\n",
        "    for person in people:\n",
        "\n",
        "\n",
        "        # Separate the 3 items in each tuple into 3 variables:\n",
        "        # \"name\", \"age\", and \"profession\"\n",
        "        name = person[0]\n",
        "        age = person[1]\n",
        "        profession = person[2]\n",
        "\n",
        "\n",
        "        # Format the required sentence and place the 3 variables\n",
        "        # in the correct placeholders using the .format() method.\n",
        "        print(\"{} is {} years old and works as a {}\".format(name, age, profession))\n",
        "\n",
        "\n",
        "\n",
        "\n",
        "# Call to the function:\n",
        "biography_list([(\"Ira\", 30, \"a Chef\"), (\"Raj\", 35, \"a Lawyer\"), (\"Maria\", 25, \"an Engineer\")])"
      ]
    }
  ]
}