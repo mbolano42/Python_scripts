{
  "nbformat": 4,
  "nbformat_minor": 0,
  "metadata": {
    "colab": {
      "provenance": [],
      "authorship_tag": "ABX9TyOXyd5OUqiEFnbIzoy+fPkL",
      "include_colab_link": true
    },
    "kernelspec": {
      "name": "python3",
      "display_name": "Python 3"
    },
    "language_info": {
      "name": "python"
    }
  },
  "cells": [
    {
      "cell_type": "markdown",
      "metadata": {
        "id": "view-in-github",
        "colab_type": "text"
      },
      "source": [
        "<a href=\"https://colab.research.google.com/github/mbolano42/Python_scripts/blob/main/convert_distance_wo_using_format.ipynb\" target=\"_parent\"><img src=\"https://colab.research.google.com/assets/colab-badge.svg\" alt=\"Open In Colab\"/></a>"
      ]
    },
    {
      "cell_type": "code",
      "execution_count": null,
      "metadata": {
        "id": "Vg1aG1rO8k9J"
      },
      "outputs": [],
      "source": [
        "# This function converts the distance (received as miles) to kilometers without using format.\n",
        "\n",
        "def convert_distance(miles):\n",
        "  km = miles * 1.6\n",
        "  result = f\"{miles:.1f} miles equals {km:.1f} km\"\n",
        "  return result"
      ]
    }
  ]
}