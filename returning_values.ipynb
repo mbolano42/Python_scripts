{
  "nbformat": 4,
  "nbformat_minor": 0,
  "metadata": {
    "colab": {
      "provenance": [],
      "authorship_tag": "ABX9TyMQmsD3aGMBWsKfluGXfLtP",
      "include_colab_link": true
    },
    "kernelspec": {
      "name": "python3",
      "display_name": "Python 3"
    },
    "language_info": {
      "name": "python"
    }
  },
  "cells": [
    {
      "cell_type": "markdown",
      "metadata": {
        "id": "view-in-github",
        "colab_type": "text"
      },
      "source": [
        "<a href=\"https://colab.research.google.com/github/mbolano42/Python_scripts/blob/main/returning_values.ipynb\" target=\"_parent\"><img src=\"https://colab.research.google.com/assets/colab-badge.svg\" alt=\"Open In Colab\"/></a>"
      ]
    },
    {
      "cell_type": "code",
      "execution_count": null,
      "metadata": {
        "id": "5qNr6VAWuaWN"
      },
      "outputs": [],
      "source": [
        "def triangle_area(base, height):\n",
        "  return (base * height) / 2\n",
        "area_01 = triangle_area(3, 21)\n",
        "area_02 = triangle_area(2, 3)\n",
        "sum = area_01 + area_02\n",
        "print(\"The sum of both areas is: \" + str(sum))"
      ]
    },
    {
      "cell_type": "markdown",
      "source": [
        "The function \"triangle_area\" receives two values: base and height; and returns a value."
      ],
      "metadata": {
        "id": "DrhPraf6v0_I"
      }
    }
  ]
}