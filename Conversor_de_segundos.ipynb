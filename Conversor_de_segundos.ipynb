{
  "nbformat": 4,
  "nbformat_minor": 0,
  "metadata": {
    "colab": {
      "provenance": [],
      "authorship_tag": "ABX9TyPvcNfz3tU9LgEvFP1htlVN",
      "include_colab_link": true
    },
    "kernelspec": {
      "name": "python3",
      "display_name": "Python 3"
    },
    "language_info": {
      "name": "python"
    }
  },
  "cells": [
    {
      "cell_type": "markdown",
      "metadata": {
        "id": "view-in-github",
        "colab_type": "text"
      },
      "source": [
        "<a href=\"https://colab.research.google.com/github/mbolano42/Python_scripts/blob/main/Conversor_de_segundos.ipynb\" target=\"_parent\"><img src=\"https://colab.research.google.com/assets/colab-badge.svg\" alt=\"Open In Colab\"/></a>"
      ]
    },
    {
      "cell_type": "code",
      "execution_count": null,
      "metadata": {
        "id": "X87846rA4jKS"
      },
      "outputs": [],
      "source": [
        "def convert_seconds(seconds):\n",
        "  hours = seconds // 3600\n",
        "  minutes = (seconds - hours * 3600) // 60\n",
        "  remaining_seconds = seconds - hours * 3600 - minutes * 60\n",
        "  time = hours, minutes, remaining_seconds\n",
        "  return (time)\n",
        "\n",
        "print(convert_seconds(3661))\n",
        "hours, minutes, seconds = convert_seconds(5000)\n",
        "print(\"Horas = \" + str(hours) + \"; Minutos = \" + str(minutes) + \"; Segundos = \" + str(seconds))"
      ]
    }
  ]
}