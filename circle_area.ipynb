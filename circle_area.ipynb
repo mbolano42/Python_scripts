{
  "nbformat": 4,
  "nbformat_minor": 0,
  "metadata": {
    "colab": {
      "provenance": [],
      "authorship_tag": "ABX9TyMcyXrUOMHosw8v3hu+aSg1",
      "include_colab_link": true
    },
    "kernelspec": {
      "name": "python3",
      "display_name": "Python 3"
    },
    "language_info": {
      "name": "python"
    }
  },
  "cells": [
    {
      "cell_type": "markdown",
      "metadata": {
        "id": "view-in-github",
        "colab_type": "text"
      },
      "source": [
        "<a href=\"https://colab.research.google.com/github/mbolano42/Python_scripts/blob/main/circle_area.ipynb\" target=\"_parent\"><img src=\"https://colab.research.google.com/assets/colab-badge.svg\" alt=\"Open In Colab\"/></a>"
      ]
    },
    {
      "cell_type": "code",
      "execution_count": null,
      "metadata": {
        "id": "n_pbAqcD3WBb"
      },
      "outputs": [],
      "source": [
        "# Create a function to calculate the area of a circle and return it.\n",
        "\n",
        "def circle_area(radius):\n",
        "  pi = 3.1416\n",
        "  return (radius ** 2) * pi\n",
        "print(circle_area(5))"
      ]
    }
  ]
}