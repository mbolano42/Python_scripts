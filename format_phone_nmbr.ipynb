{
  "nbformat": 4,
  "nbformat_minor": 0,
  "metadata": {
    "colab": {
      "provenance": [],
      "authorship_tag": "ABX9TyMuHIqe9FP5O8kcDNMutWTi",
      "include_colab_link": true
    },
    "kernelspec": {
      "name": "python3",
      "display_name": "Python 3"
    },
    "language_info": {
      "name": "python"
    }
  },
  "cells": [
    {
      "cell_type": "markdown",
      "metadata": {
        "id": "view-in-github",
        "colab_type": "text"
      },
      "source": [
        "<a href=\"https://colab.research.google.com/github/mbolano42/Python_scripts/blob/main/format_phone_nmbr.ipynb\" target=\"_parent\"><img src=\"https://colab.research.google.com/assets/colab-badge.svg\" alt=\"Open In Colab\"/></a>"
      ]
    },
    {
      "cell_type": "code",
      "execution_count": null,
      "metadata": {
        "id": "ufey-K2oD-Ul"
      },
      "outputs": [],
      "source": [
        "def format_phone_nmbr(nmbr):\n",
        "  area_code = \"(\" + nmbr[:3] + \")\"\n",
        "  exchange = nmbr[3:6]\n",
        "  line = nmbr[-3:]\n",
        "  return (area_code + \"-\" + exchange + \"-\" + line)\n",
        "print(format_phone_nmbr(\"952380977\"))"
      ]
    }
  ]
}