{
  "nbformat": 4,
  "nbformat_minor": 0,
  "metadata": {
    "colab": {
      "provenance": [],
      "authorship_tag": "ABX9TyOmHQvWCzUHyeQ1kufpBh6j",
      "include_colab_link": true
    },
    "kernelspec": {
      "name": "python3",
      "display_name": "Python 3"
    },
    "language_info": {
      "name": "python"
    }
  },
  "cells": [
    {
      "cell_type": "markdown",
      "metadata": {
        "id": "view-in-github",
        "colab_type": "text"
      },
      "source": [
        "<a href=\"https://colab.research.google.com/github/mbolano42/Python_scripts/blob/main/print_the_whole_list.ipynb\" target=\"_parent\"><img src=\"https://colab.research.google.com/assets/colab-badge.svg\" alt=\"Open In Colab\"/></a>"
      ]
    },
    {
      "cell_type": "code",
      "execution_count": null,
      "metadata": {
        "id": "TDsyacQJ3Exw"
      },
      "outputs": [],
      "source": [
        "def list_content(the_list):\n",
        "  x = len(the_list)\n",
        "  for y in range(x):\n",
        "    print(the_list[y])\n",
        "\n",
        "my_list = ['papas', 'manzanas', 'uvas', 'peras']\n",
        "list_content(my_list)"
      ]
    }
  ]
}