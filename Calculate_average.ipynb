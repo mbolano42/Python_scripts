{
  "nbformat": 4,
  "nbformat_minor": 0,
  "metadata": {
    "colab": {
      "provenance": [],
      "authorship_tag": "ABX9TyMRhTmy7Vdxe1rtb7y9v+1O",
      "include_colab_link": true
    },
    "kernelspec": {
      "name": "python3",
      "display_name": "Python 3"
    },
    "language_info": {
      "name": "python"
    }
  },
  "cells": [
    {
      "cell_type": "markdown",
      "metadata": {
        "id": "view-in-github",
        "colab_type": "text"
      },
      "source": [
        "<a href=\"https://colab.research.google.com/github/mbolano42/Python_scripts/blob/main/Calculate_average.ipynb\" target=\"_parent\"><img src=\"https://colab.research.google.com/assets/colab-badge.svg\" alt=\"Open In Colab\"/></a>"
      ]
    },
    {
      "cell_type": "code",
      "execution_count": null,
      "metadata": {
        "id": "5RDuSn_w9zUn"
      },
      "outputs": [],
      "source": [
        "values = [34, 56, 66, 23, 62]\n",
        "sum = 0\n",
        "length = 0\n",
        "for value in values:\n",
        "  sum += value\n",
        "  length += 1\n",
        "print(\"The total sum of all the elements is: \" + str(sum) + \"; and its average is: \" + str(sum / length))"
      ]
    }
  ]
}