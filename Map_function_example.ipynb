{
  "nbformat": 4,
  "nbformat_minor": 0,
  "metadata": {
    "colab": {
      "provenance": [],
      "authorship_tag": "ABX9TyOPo+h56xSixRxYvJ4s5/Mh",
      "include_colab_link": true
    },
    "kernelspec": {
      "name": "python3",
      "display_name": "Python 3"
    },
    "language_info": {
      "name": "python"
    }
  },
  "cells": [
    {
      "cell_type": "markdown",
      "metadata": {
        "id": "view-in-github",
        "colab_type": "text"
      },
      "source": [
        "<a href=\"https://colab.research.google.com/github/mbolano42/Python_scripts/blob/main/Map_function_example.ipynb\" target=\"_parent\"><img src=\"https://colab.research.google.com/assets/colab-badge.svg\" alt=\"Open In Colab\"/></a>"
      ]
    },
    {
      "cell_type": "code",
      "execution_count": null,
      "metadata": {
        "id": "8Ktot-IC6KyW"
      },
      "outputs": [],
      "source": [
        "def square(x):\n",
        "  return x**2\n",
        "numbers=[1, 2, 3, 4, 5]\n",
        "sqrs_of_numbers=map(square, numbers)\n",
        "for x in sqrs_of_numbers:\n",
        "  print(x)"
      ]
    }
  ]
}