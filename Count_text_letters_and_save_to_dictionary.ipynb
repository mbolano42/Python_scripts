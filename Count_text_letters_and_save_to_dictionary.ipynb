{
  "nbformat": 4,
  "nbformat_minor": 0,
  "metadata": {
    "colab": {
      "provenance": [],
      "authorship_tag": "ABX9TyPx2VlO3RYxl5jGaM1U3ADA",
      "include_colab_link": true
    },
    "kernelspec": {
      "name": "python3",
      "display_name": "Python 3"
    },
    "language_info": {
      "name": "python"
    }
  },
  "cells": [
    {
      "cell_type": "markdown",
      "metadata": {
        "id": "view-in-github",
        "colab_type": "text"
      },
      "source": [
        "<a href=\"https://colab.research.google.com/github/mbolano42/Python_scripts/blob/main/Count_text_letters_and_save_to_dictionary.ipynb\" target=\"_parent\"><img src=\"https://colab.research.google.com/assets/colab-badge.svg\" alt=\"Open In Colab\"/></a>"
      ]
    },
    {
      "cell_type": "code",
      "execution_count": null,
      "metadata": {
        "id": "_MEMPbx_yEVZ"
      },
      "outputs": [],
      "source": [
        "def count_letters(text):\n",
        "  result={}\n",
        "  for letter in text:\n",
        "    if letter != \",\" and letter != \".\":\n",
        "      if not letter in result:\n",
        "        result[letter] = 0\n",
        "      result[letter] += 1\n",
        "  return result\n",
        "print(count_letters(\"long time ago in a far, far away galaxy...\"))"
      ]
    }
  ]
}