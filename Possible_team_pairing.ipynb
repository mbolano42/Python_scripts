{
  "nbformat": 4,
  "nbformat_minor": 0,
  "metadata": {
    "colab": {
      "provenance": [],
      "authorship_tag": "ABX9TyMtq4loU5lwQdAVT/MX1oiE",
      "include_colab_link": true
    },
    "kernelspec": {
      "name": "python3",
      "display_name": "Python 3"
    },
    "language_info": {
      "name": "python"
    }
  },
  "cells": [
    {
      "cell_type": "markdown",
      "metadata": {
        "id": "view-in-github",
        "colab_type": "text"
      },
      "source": [
        "<a href=\"https://colab.research.google.com/github/mbolano42/Python_scripts/blob/main/Possible_team_pairing.ipynb\" target=\"_parent\"><img src=\"https://colab.research.google.com/assets/colab-badge.svg\" alt=\"Open In Colab\"/></a>"
      ]
    },
    {
      "cell_type": "code",
      "execution_count": null,
      "metadata": {
        "id": "cgr4QeK_dYNs"
      },
      "outputs": [],
      "source": [
        "teams = [\"Real Madrid\", \"Barcelona\", \"Betis\", \"Real Sociedad\", \"Villareal\"]\n",
        "for team_a in teams:\n",
        "  for team_b in teams:\n",
        "    if team_a != team_b:\n",
        "      print(team_a + \" Vs. \" + team_b)"
      ]
    }
  ]
}