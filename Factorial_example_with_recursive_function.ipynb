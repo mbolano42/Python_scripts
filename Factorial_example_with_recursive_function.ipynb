{
  "nbformat": 4,
  "nbformat_minor": 0,
  "metadata": {
    "colab": {
      "provenance": [],
      "authorship_tag": "ABX9TyO/CXH2t6jPcpX+mnEXP7wr",
      "include_colab_link": true
    },
    "kernelspec": {
      "name": "python3",
      "display_name": "Python 3"
    },
    "language_info": {
      "name": "python"
    }
  },
  "cells": [
    {
      "cell_type": "markdown",
      "metadata": {
        "id": "view-in-github",
        "colab_type": "text"
      },
      "source": [
        "<a href=\"https://colab.research.google.com/github/mbolano42/Python_scripts/blob/main/Factorial_example_with_recursive_function.ipynb\" target=\"_parent\"><img src=\"https://colab.research.google.com/assets/colab-badge.svg\" alt=\"Open In Colab\"/></a>"
      ]
    },
    {
      "cell_type": "code",
      "execution_count": 6,
      "metadata": {
        "id": "yVSSmqcm4S9m"
      },
      "outputs": [],
      "source": [
        "def factorial(nbr):\n",
        "  if nbr < 2:\n",
        "    print(str(nbr) + \"=\", end=\"\")\n",
        "    return nbr\n",
        "  else:\n",
        "    print(str(nbr) + \"*\", end=\"\")\n",
        "    return nbr * (factorial(nbr - 1))"
      ]
    }
  ]
}