{
  "nbformat": 4,
  "nbformat_minor": 0,
  "metadata": {
    "colab": {
      "provenance": [],
      "authorship_tag": "ABX9TyNTXTrSiDbYY5oLFNu95sB2",
      "include_colab_link": true
    },
    "kernelspec": {
      "name": "python3",
      "display_name": "Python 3"
    },
    "language_info": {
      "name": "python"
    }
  },
  "cells": [
    {
      "cell_type": "markdown",
      "metadata": {
        "id": "view-in-github",
        "colab_type": "text"
      },
      "source": [
        "<a href=\"https://colab.research.google.com/github/mbolano42/Python_scripts/blob/main/How_Zip_function_works.ipynb\" target=\"_parent\"><img src=\"https://colab.research.google.com/assets/colab-badge.svg\" alt=\"Open In Colab\"/></a>"
      ]
    },
    {
      "cell_type": "code",
      "execution_count": null,
      "metadata": {
        "id": "lLu0JUN2_IJ5"
      },
      "outputs": [],
      "source": [
        "def zip_the_capitals(city, country):\n",
        "  return zip(city, country)\n",
        "\n",
        "def print_the_zipped_string(zipped_value):\n",
        "  while True:\n",
        "    try:\n",
        "      element = next(zipped_value)\n",
        "      print(element[0] + \" -> \" + element[1])\n",
        "    except StopIteration:\n",
        "      break\n",
        "\n",
        "city = [\"Madrid\", \"Paris\", \"Roma\", \"Berlín\", \"Londres\"]\n",
        "country = [\"España\", \"Francia\", \"Italia\", \"Alemania\", \"UK\"]\n",
        "print_the_zipped_string(zip_the_capitals(city, country))"
      ]
    }
  ]
}