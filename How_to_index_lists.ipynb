{
  "nbformat": 4,
  "nbformat_minor": 0,
  "metadata": {
    "colab": {
      "provenance": [],
      "authorship_tag": "ABX9TyPj0aAUrtxjxbRthBJRYRux",
      "include_colab_link": true
    },
    "kernelspec": {
      "name": "python3",
      "display_name": "Python 3"
    },
    "language_info": {
      "name": "python"
    }
  },
  "cells": [
    {
      "cell_type": "markdown",
      "metadata": {
        "id": "view-in-github",
        "colab_type": "text"
      },
      "source": [
        "<a href=\"https://colab.research.google.com/github/mbolano42/Python_scripts/blob/main/How_to_index_lists.ipynb\" target=\"_parent\"><img src=\"https://colab.research.google.com/assets/colab-badge.svg\" alt=\"Open In Colab\"/></a>"
      ]
    },
    {
      "cell_type": "code",
      "execution_count": null,
      "metadata": {
        "id": "xiw-6cEX4KpN"
      },
      "outputs": [],
      "source": [
        "def print_list(my_list):\n",
        "  x = 0\n",
        "  while x < len(my_list):\n",
        "    print(my_list[x])\n",
        "    x += 1\n",
        "names = [\"Briam\", \"Edu\", \"Ismael\", \"Alfonso\", \"Javier\"]\n",
        "print_list(names)"
      ]
    }
  ]
}