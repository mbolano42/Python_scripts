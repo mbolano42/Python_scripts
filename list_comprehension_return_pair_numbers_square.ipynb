{
  "nbformat": 4,
  "nbformat_minor": 0,
  "metadata": {
    "colab": {
      "provenance": [],
      "authorship_tag": "ABX9TyMnTFculisXAlIxBtK+VFfA",
      "include_colab_link": true
    },
    "kernelspec": {
      "name": "python3",
      "display_name": "Python 3"
    },
    "language_info": {
      "name": "python"
    }
  },
  "cells": [
    {
      "cell_type": "markdown",
      "metadata": {
        "id": "view-in-github",
        "colab_type": "text"
      },
      "source": [
        "<a href=\"https://colab.research.google.com/github/mbolano42/Python_scripts/blob/main/list_comprehension_return_pair_numbers_square.ipynb\" target=\"_parent\"><img src=\"https://colab.research.google.com/assets/colab-badge.svg\" alt=\"Open In Colab\"/></a>"
      ]
    },
    {
      "cell_type": "code",
      "execution_count": null,
      "metadata": {
        "id": "UssVFe8lhO07"
      },
      "outputs": [],
      "source": [
        "def squared_nbrs(start, end):\n",
        "  return [(x * x) for x in range(start, end + 1) if x % 2 == 0]\n",
        "\n",
        "print(squared_nbrs(1, 100))"
      ]
    }
  ]
}